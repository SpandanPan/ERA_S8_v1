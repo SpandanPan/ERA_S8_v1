{
  "cells": [
    {
      "cell_type": "markdown",
      "metadata": {
        "id": "aO-7t1Y7-hV4"
      },
      "source": [
        "# Import Libraries"
      ]
    },
    {
      "cell_type": "code",
      "execution_count": 1,
      "metadata": {
        "id": "8kH16rnZ7wt_"
      },
      "outputs": [],
      "source": [
        "from __future__ import print_function\n",
        "import torch\n",
        "import torch.nn as nn\n",
        "import torch.nn.functional as F\n",
        "import torch.optim as optim\n",
        "from torchvision import datasets, transforms"
      ]
    },
    {
      "cell_type": "markdown",
      "metadata": {
        "id": "oQciFYo2B1mO"
      },
      "source": [
        "# Dataset and Creating Train/Test Split"
      ]
    },
    {
      "cell_type": "code",
      "execution_count": 2,
      "metadata": {
        "colab": {
          "base_uri": "https://localhost:8080/"
        },
        "id": "_4A84rlfDA23",
        "outputId": "63421076-0491-4ac6-cda8-2f4836e70284"
      },
      "outputs": [
        {
          "output_type": "stream",
          "name": "stdout",
          "text": [
            "Files already downloaded and verified\n",
            "Files already downloaded and verified\n"
          ]
        }
      ],
      "source": [
        "from utils import train_transforms,test_transforms\n",
        "train_data = datasets.CIFAR10('./data', train=True, download=True, transform=train_transforms)\n",
        "test_data = datasets.CIFAR10('./data', train=False, download=True, transform=test_transforms)"
      ]
    },
    {
      "cell_type": "markdown",
      "metadata": {
        "id": "qgldp_3-Dn0c"
      },
      "source": [
        "# Dataloader Arguments & Test/Train Dataloaders\n"
      ]
    },
    {
      "cell_type": "code",
      "execution_count": 3,
      "metadata": {
        "colab": {
          "base_uri": "https://localhost:8080/"
        },
        "id": "C8OLDR79DrHG",
        "outputId": "69b487bd-d620-4c0f-890b-26fa6674afe0"
      },
      "outputs": [
        {
          "output_type": "stream",
          "name": "stdout",
          "text": [
            "CUDA Available? True\n"
          ]
        },
        {
          "output_type": "stream",
          "name": "stderr",
          "text": [
            "/usr/local/lib/python3.10/dist-packages/torch/utils/data/dataloader.py:560: UserWarning: This DataLoader will create 4 worker processes in total. Our suggested max number of worker in current system is 2, which is smaller than what this DataLoader is going to create. Please be aware that excessive worker creation might get DataLoader running slow or even freeze, lower the worker number to avoid potential slowness/freeze if necessary.\n",
            "  warnings.warn(_create_warning_msg(\n"
          ]
        }
      ],
      "source": [
        "SEED = 2\n",
        "\n",
        "# CUDA?\n",
        "cuda = torch.cuda.is_available()\n",
        "print(\"CUDA Available?\", cuda)\n",
        "\n",
        "# For reproducibility\n",
        "torch.manual_seed(SEED)\n",
        "\n",
        "if cuda:\n",
        "    torch.cuda.manual_seed(SEED)\n",
        "\n",
        "# dataloader arguments - something you'll fetch these from cmdprmt\n",
        "args = dict(shuffle=True, batch_size=128, num_workers=4, pin_memory=True)\n",
        "\n",
        "# train dataloader\n",
        "train_loader = torch.utils.data.DataLoader(train_data,**args)\n",
        "\n",
        "# test dataloader\n",
        "test_loader = torch.utils.data.DataLoader(test_data, **args)"
      ]
    },
    {
      "cell_type": "code",
      "execution_count": 4,
      "metadata": {
        "colab": {
          "base_uri": "https://localhost:8080/"
        },
        "id": "NDHC0_byQf2Y",
        "outputId": "352300f9-6c59-411f-84ca-02b14a5878f6"
      },
      "outputs": [
        {
          "output_type": "stream",
          "name": "stdout",
          "text": [
            "(50000, 32, 32, 3)\n",
            "(10000, 32, 32, 3)\n",
            "10\n"
          ]
        }
      ],
      "source": [
        "# Shape of the train data\n",
        "print (train_data.data.shape)\n",
        "# Shape of the test data\n",
        "print (test_data.data.shape)\n",
        "\n",
        "# Number of categories in the data\n",
        "print (len(train_data.classes))"
      ]
    },
    {
      "cell_type": "code",
      "execution_count": 5,
      "metadata": {
        "colab": {
          "base_uri": "https://localhost:8080/",
          "height": 448
        },
        "id": "qN7BAZ__Qbdd",
        "outputId": "588dd96c-f54a-4035-8d30-c942230f5036"
      },
      "outputs": [
        {
          "output_type": "display_data",
          "data": {
            "text/plain": [
              "<Figure size 640x480 with 1 Axes>"
            ],
            "image/png": "[encoded data removed]"
          },
          "metadata": {}
        },
        {
          "output_type": "stream",
          "name": "stdout",
          "text": [
            "automobile\n"
          ]
        }
      ],
      "source": [
        "# Visualizing an image from train data\n",
        "import matplotlib.pyplot as plt\n",
        "img = train_data.data[99]\n",
        "label = train_data.targets[99]\n",
        "\n",
        "plt.imshow(img)\n",
        "plt.show()\n",
        "\n",
        "for key, value in enumerate(train_data.class_to_idx):\n",
        "  if key == label:\n",
        "      print (value)"
      ]
    },
    {
      "cell_type": "code",
      "execution_count": 6,
      "metadata": {
        "colab": {
          "base_uri": "https://localhost:8080/"
        },
        "id": "YRS1__Dt4SBw",
        "outputId": "b52cb641-7981-4ce1-bbf6-b9669f38b522"
      },
      "outputs": [
        {
          "output_type": "stream",
          "name": "stdout",
          "text": [
            "Requirement already satisfied: torchsummary in /usr/local/lib/python3.10/dist-packages (1.5.1)\n",
            "cuda\n",
            "----------------------------------------------------------------\n",
            "        Layer (type)               Output Shape         Param #\n",
            "================================================================\n",
            "            Conv2d-1           [-1, 16, 32, 32]             432\n",
            "         GroupNorm-2           [-1, 16, 32, 32]              32\n",
            "           Dropout-3           [-1, 16, 32, 32]               0\n",
            "            Conv2d-4           [-1, 16, 32, 32]           2,304\n",
            "         GroupNorm-5           [-1, 16, 32, 32]              32\n",
            "           Dropout-6           [-1, 16, 32, 32]               0\n",
            "            Conv2d-7            [-1, 8, 32, 32]             128\n",
            "         MaxPool2d-8            [-1, 8, 16, 16]               0\n",
            "            Conv2d-9           [-1, 24, 16, 16]           1,728\n",
            "        GroupNorm-10           [-1, 24, 16, 16]              48\n",
            "          Dropout-11           [-1, 24, 16, 16]               0\n",
            "           Conv2d-12           [-1, 24, 16, 16]           5,184\n",
            "        GroupNorm-13           [-1, 24, 16, 16]              48\n",
            "          Dropout-14           [-1, 24, 16, 16]               0\n",
            "           Conv2d-15           [-1, 24, 16, 16]           5,184\n",
            "        GroupNorm-16           [-1, 24, 16, 16]              48\n",
            "          Dropout-17           [-1, 24, 16, 16]               0\n",
            "           Conv2d-18            [-1, 8, 16, 16]             192\n",
            "        MaxPool2d-19              [-1, 8, 8, 8]               0\n",
            "           Conv2d-20             [-1, 32, 8, 8]           2,304\n",
            "        GroupNorm-21             [-1, 32, 8, 8]              64\n",
            "          Dropout-22             [-1, 32, 8, 8]               0\n",
            "           Conv2d-23             [-1, 32, 8, 8]           9,216\n",
            "        GroupNorm-24             [-1, 32, 8, 8]              64\n",
            "          Dropout-25             [-1, 32, 8, 8]               0\n",
            "           Conv2d-26             [-1, 32, 8, 8]           9,216\n",
            "        GroupNorm-27             [-1, 32, 8, 8]              64\n",
            "          Dropout-28             [-1, 32, 8, 8]               0\n",
            "        AvgPool2d-29             [-1, 32, 1, 1]               0\n",
            "           Conv2d-30             [-1, 10, 1, 1]             320\n",
            "================================================================\n",
            "Total params: 36,608\n",
            "Trainable params: 36,608\n",
            "Non-trainable params: 0\n",
            "----------------------------------------------------------------\n",
            "Input size (MB): 0.01\n",
            "Forward/backward pass size (MB): 1.41\n",
            "Params size (MB): 0.14\n",
            "Estimated Total Size (MB): 1.56\n",
            "----------------------------------------------------------------\n"
          ]
        }
      ],
      "source": [
        "# Model Summary\n",
        "from model import Model_Norm\n",
        "!pip install torchsummary\n",
        "from torchsummary import summary\n",
        "use_cuda = torch.cuda.is_available()\n",
        "device = torch.device(\"cuda\" if use_cuda else \"cpu\")\n",
        "print(device)\n",
        "model = Model_Norm(norm_type='ln').to(device)\n",
        "summary(model, input_size=(3, 32, 32))"
      ]
    },
    {
      "cell_type": "code",
      "execution_count": 7,
      "metadata": {
        "id": "NSgpCVul5ipH"
      },
      "outputs": [],
      "source": [
        "# Training And Testing"
      ]
    },
    {
      "cell_type": "code",
      "execution_count": 8,
      "metadata": {
        "colab": {
          "base_uri": "https://localhost:8080/"
        },
        "id": "8LF9EvbzMSXj",
        "outputId": "b72f32aa-079b-4cb2-f876-7ecf453707d8"
      },
      "outputs": [
        {
          "output_type": "stream",
          "name": "stdout",
          "text": [
            "EPOCH: 0\n"
          ]
        },
        {
          "output_type": "stream",
          "name": "stderr",
          "text": [
            "Loss=1.5023478269577026 Batch_id=390 Accuracy=35.87: 100%|██████████| 391/391 [00:58<00:00,  6.70it/s]\n"
          ]
        },
        {
          "output_type": "stream",
          "name": "stdout",
          "text": [
            "\n",
            "Test set: Average loss: 1.6024, Accuracy: 4113/10000 (41.13%)\n",
            "\n",
            "EPOCH: 1\n"
          ]
        },
        {
          "output_type": "stream",
          "name": "stderr",
          "text": [
            "Loss=1.2992668151855469 Batch_id=390 Accuracy=48.17: 100%|██████████| 391/391 [00:50<00:00,  7.73it/s]\n"
          ]
        },
        {
          "output_type": "stream",
          "name": "stdout",
          "text": [
            "\n",
            "Test set: Average loss: 1.2865, Accuracy: 5281/10000 (52.81%)\n",
            "\n",
            "EPOCH: 2\n"
          ]
        },
        {
          "output_type": "stream",
          "name": "stderr",
          "text": [
            "Loss=1.240173578262329 Batch_id=390 Accuracy=52.92: 100%|██████████| 391/391 [00:52<00:00,  7.51it/s]\n"
          ]
        },
        {
          "output_type": "stream",
          "name": "stdout",
          "text": [
            "\n",
            "Test set: Average loss: 1.2211, Accuracy: 5591/10000 (55.91%)\n",
            "\n",
            "EPOCH: 3\n"
          ]
        },
        {
          "output_type": "stream",
          "name": "stderr",
          "text": [
            "Loss=1.207118034362793 Batch_id=390 Accuracy=56.65: 100%|██████████| 391/391 [00:49<00:00,  7.91it/s]\n"
          ]
        },
        {
          "output_type": "stream",
          "name": "stdout",
          "text": [
            "\n",
            "Test set: Average loss: 1.1213, Accuracy: 5912/10000 (59.12%)\n",
            "\n",
            "EPOCH: 4\n"
          ]
        },
        {
          "output_type": "stream",
          "name": "stderr",
          "text": [
            "Loss=1.055903434753418 Batch_id=390 Accuracy=58.95: 100%|██████████| 391/391 [00:49<00:00,  7.87it/s]\n"
          ]
        },
        {
          "output_type": "stream",
          "name": "stdout",
          "text": [
            "\n",
            "Test set: Average loss: 1.1270, Accuracy: 6065/10000 (60.65%)\n",
            "\n",
            "EPOCH: 5\n"
          ]
        },
        {
          "output_type": "stream",
          "name": "stderr",
          "text": [
            "Loss=0.8403590321540833 Batch_id=390 Accuracy=60.75: 100%|██████████| 391/391 [00:48<00:00,  8.08it/s]\n"
          ]
        },
        {
          "output_type": "stream",
          "name": "stdout",
          "text": [
            "\n",
            "Test set: Average loss: 1.0728, Accuracy: 6175/10000 (61.75%)\n",
            "\n",
            "EPOCH: 6\n"
          ]
        },
        {
          "output_type": "stream",
          "name": "stderr",
          "text": [
            "Loss=1.0018353462219238 Batch_id=390 Accuracy=64.44: 100%|██████████| 391/391 [00:48<00:00,  7.98it/s]\n"
          ]
        },
        {
          "output_type": "stream",
          "name": "stdout",
          "text": [
            "\n",
            "Test set: Average loss: 0.9689, Accuracy: 6517/10000 (65.17%)\n",
            "\n",
            "EPOCH: 7\n"
          ]
        },
        {
          "output_type": "stream",
          "name": "stderr",
          "text": [
            "Loss=0.9021371006965637 Batch_id=390 Accuracy=65.53: 100%|██████████| 391/391 [00:49<00:00,  7.96it/s]\n"
          ]
        },
        {
          "output_type": "stream",
          "name": "stdout",
          "text": [
            "\n",
            "Test set: Average loss: 0.9493, Accuracy: 6617/10000 (66.17%)\n",
            "\n",
            "EPOCH: 8\n"
          ]
        },
        {
          "output_type": "stream",
          "name": "stderr",
          "text": [
            "Loss=0.9802525639533997 Batch_id=390 Accuracy=65.58: 100%|██████████| 391/391 [00:53<00:00,  7.27it/s]\n"
          ]
        },
        {
          "output_type": "stream",
          "name": "stdout",
          "text": [
            "\n",
            "Test set: Average loss: 0.9623, Accuracy: 6543/10000 (65.43%)\n",
            "\n",
            "EPOCH: 9\n"
          ]
        },
        {
          "output_type": "stream",
          "name": "stderr",
          "text": [
            "Loss=1.0011367797851562 Batch_id=390 Accuracy=65.73: 100%|██████████| 391/391 [00:49<00:00,  7.84it/s]\n"
          ]
        },
        {
          "output_type": "stream",
          "name": "stdout",
          "text": [
            "\n",
            "Test set: Average loss: 0.9450, Accuracy: 6632/10000 (66.32%)\n",
            "\n",
            "EPOCH: 10\n"
          ]
        },
        {
          "output_type": "stream",
          "name": "stderr",
          "text": [
            "Loss=0.9381283521652222 Batch_id=390 Accuracy=66.13: 100%|██████████| 391/391 [00:49<00:00,  7.91it/s]\n"
          ]
        },
        {
          "output_type": "stream",
          "name": "stdout",
          "text": [
            "\n",
            "Test set: Average loss: 0.9390, Accuracy: 6639/10000 (66.39%)\n",
            "\n",
            "EPOCH: 11\n"
          ]
        },
        {
          "output_type": "stream",
          "name": "stderr",
          "text": [
            "Loss=1.052497148513794 Batch_id=390 Accuracy=66.31: 100%|██████████| 391/391 [00:50<00:00,  7.72it/s]\n"
          ]
        },
        {
          "output_type": "stream",
          "name": "stdout",
          "text": [
            "\n",
            "Test set: Average loss: 0.9346, Accuracy: 6650/10000 (66.50%)\n",
            "\n",
            "EPOCH: 12\n"
          ]
        },
        {
          "output_type": "stream",
          "name": "stderr",
          "text": [
            "Loss=0.8108968734741211 Batch_id=390 Accuracy=66.63: 100%|██████████| 391/391 [00:50<00:00,  7.81it/s]\n"
          ]
        },
        {
          "output_type": "stream",
          "name": "stdout",
          "text": [
            "\n",
            "Test set: Average loss: 0.9327, Accuracy: 6678/10000 (66.78%)\n",
            "\n",
            "EPOCH: 13\n"
          ]
        },
        {
          "output_type": "stream",
          "name": "stderr",
          "text": [
            "Loss=0.9939063787460327 Batch_id=390 Accuracy=66.84: 100%|██████████| 391/391 [00:50<00:00,  7.77it/s]\n"
          ]
        },
        {
          "output_type": "stream",
          "name": "stdout",
          "text": [
            "\n",
            "Test set: Average loss: 0.9275, Accuracy: 6701/10000 (67.01%)\n",
            "\n",
            "EPOCH: 14\n"
          ]
        },
        {
          "output_type": "stream",
          "name": "stderr",
          "text": [
            "Loss=0.8426729440689087 Batch_id=390 Accuracy=66.83: 100%|██████████| 391/391 [00:50<00:00,  7.78it/s]\n"
          ]
        },
        {
          "output_type": "stream",
          "name": "stdout",
          "text": [
            "\n",
            "Test set: Average loss: 0.9261, Accuracy: 6720/10000 (67.20%)\n",
            "\n",
            "EPOCH: 15\n"
          ]
        },
        {
          "output_type": "stream",
          "name": "stderr",
          "text": [
            "Loss=0.8801358938217163 Batch_id=390 Accuracy=66.62: 100%|██████████| 391/391 [00:50<00:00,  7.77it/s]\n"
          ]
        },
        {
          "output_type": "stream",
          "name": "stdout",
          "text": [
            "\n",
            "Test set: Average loss: 0.9245, Accuracy: 6702/10000 (67.02%)\n",
            "\n",
            "EPOCH: 16\n"
          ]
        },
        {
          "output_type": "stream",
          "name": "stderr",
          "text": [
            "Loss=0.8552836179733276 Batch_id=390 Accuracy=66.77: 100%|██████████| 391/391 [00:50<00:00,  7.78it/s]\n"
          ]
        },
        {
          "output_type": "stream",
          "name": "stdout",
          "text": [
            "\n",
            "Test set: Average loss: 0.9251, Accuracy: 6708/10000 (67.08%)\n",
            "\n",
            "EPOCH: 17\n"
          ]
        },
        {
          "output_type": "stream",
          "name": "stderr",
          "text": [
            "Loss=0.9568058252334595 Batch_id=390 Accuracy=67.01: 100%|██████████| 391/391 [00:50<00:00,  7.79it/s]\n"
          ]
        },
        {
          "output_type": "stream",
          "name": "stdout",
          "text": [
            "\n",
            "Test set: Average loss: 0.9232, Accuracy: 6690/10000 (66.90%)\n",
            "\n",
            "EPOCH: 18\n"
          ]
        },
        {
          "output_type": "stream",
          "name": "stderr",
          "text": [
            "Loss=0.8150164484977722 Batch_id=390 Accuracy=67.05: 100%|██████████| 391/391 [00:49<00:00,  7.86it/s]\n"
          ]
        },
        {
          "output_type": "stream",
          "name": "stdout",
          "text": [
            "\n",
            "Test set: Average loss: 0.9231, Accuracy: 6708/10000 (67.08%)\n",
            "\n",
            "EPOCH: 19\n"
          ]
        },
        {
          "output_type": "stream",
          "name": "stderr",
          "text": [
            "Loss=1.01128089427948 Batch_id=390 Accuracy=66.86: 100%|██████████| 391/391 [00:49<00:00,  7.83it/s]\n"
          ]
        },
        {
          "output_type": "stream",
          "name": "stdout",
          "text": [
            "\n",
            "Test set: Average loss: 0.9230, Accuracy: 6720/10000 (67.20%)\n",
            "\n"
          ]
        }
      ],
      "source": [
        "from torch.optim.lr_scheduler import StepLR\n",
        "from model import train,test\n",
        "model =  Model_Norm(norm_type='ln').to(device)\n",
        "optimizer = optim.SGD(model.parameters(), lr=0.01, momentum=0.9)\n",
        "scheduler = StepLR(optimizer, step_size=6, gamma=0.1)\n",
        "EPOCHS = 20\n",
        "for epoch in range(EPOCHS):\n",
        "    print(\"EPOCH:\", epoch)\n",
        "    train(model, device, train_loader, optimizer, epoch)\n",
        "    scheduler.step()\n",
        "    test(model, device, test_loader)"
      ]
    },
    {
      "cell_type": "code",
      "execution_count": 9,
      "metadata": {
        "id": "Gpi6B__uNLSy"
      },
      "outputs": [],
      "source": [
        "\n",
        "# Wrong predictions\n",
        "cnt=0\n",
        "import random\n",
        "data, target = next(iter(test_loader))\n",
        "data, target = data.to(device), target.to(device)\n",
        "output = model(data)\n",
        "pred = output.argmax(dim=1, keepdim=True)\n",
        "img_lst=[]\n",
        "cat_lst=[]\n",
        "x_lst=[]\n",
        "for i in range(0,127):\n",
        "  x = random.randint(0,127)\n",
        "\n",
        "  if pred[x].item()!=target[x].item():\n",
        "    img=data[x].cpu().numpy().T\n",
        "    img_lst.append(img)\n",
        "    cat=[value for key,value in enumerate(train_data.class_to_idx) if key==target[x].item()][0]\n",
        "    cat_lst.append(cat)\n",
        "    x_lst.append(x)\n",
        "    cnt+=1\n",
        "  if cnt>9:\n",
        "    break"
      ]
    },
    {
      "cell_type": "code",
      "execution_count": 10,
      "metadata": {
        "colab": {
          "base_uri": "https://localhost:8080/",
          "height": 662
        },
        "id": "G8HnUGgqu1H1",
        "outputId": "f73fed23-e8ec-40c9-8b6b-ec6f8536536c"
      },
      "outputs": [
        {
          "output_type": "stream",
          "name": "stderr",
          "text": [
            "WARNING:matplotlib.image:Clipping input data to the valid range for imshow with RGB data ([0..1] for floats or [0..255] for integers).\n",
            "WARNING:matplotlib.image:Clipping input data to the valid range for imshow with RGB data ([0..1] for floats or [0..255] for integers).\n",
            "WARNING:matplotlib.image:Clipping input data to the valid range for imshow with RGB data ([0..1] for floats or [0..255] for integers).\n",
            "WARNING:matplotlib.image:Clipping input data to the valid range for imshow with RGB data ([0..1] for floats or [0..255] for integers).\n",
            "WARNING:matplotlib.image:Clipping input data to the valid range for imshow with RGB data ([0..1] for floats or [0..255] for integers).\n",
            "WARNING:matplotlib.image:Clipping input data to the valid range for imshow with RGB data ([0..1] for floats or [0..255] for integers).\n",
            "WARNING:matplotlib.image:Clipping input data to the valid range for imshow with RGB data ([0..1] for floats or [0..255] for integers).\n",
            "WARNING:matplotlib.image:Clipping input data to the valid range for imshow with RGB data ([0..1] for floats or [0..255] for integers).\n",
            "WARNING:matplotlib.image:Clipping input data to the valid range for imshow with RGB data ([0..1] for floats or [0..255] for integers).\n",
            "WARNING:matplotlib.image:Clipping input data to the valid range for imshow with RGB data ([0..1] for floats or [0..255] for integers).\n"
          ]
        },
        {
          "output_type": "display_data",
          "data": {
            "text/plain": [
              "<Figure size 640x480 with 10 Axes>"
            ],
            "image/png": "[encoded data removed]"
          },
          "metadata": {}
        }
      ],
      "source": [
        "for i in range(10):\n",
        "  plt.subplot(5,2,i+1)\n",
        "  plt.tight_layout()\n",
        "  plt.imshow(img_lst[i])\n",
        "  plt.title(cat_lst[i])\n",
        "  plt.xticks([])\n",
        "  plt.yticks([])"
      ]
    },
    {
      "cell_type": "code",
      "execution_count": 10,
      "metadata": {
        "id": "ItDFyJR_z68J"
      },
      "outputs": [],
      "source": []
    }
  ],
  "metadata": {
    "accelerator": "GPU",
    "colab": {
      "provenance": []
    },
    "kernelspec": {
      "display_name": "Python 3",
      "name": "python3"
    }
  },
  "nbformat": 4,
  "nbformat_minor": 0
}
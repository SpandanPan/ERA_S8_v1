{
  "cells": [
    {
      "cell_type": "markdown",
      "metadata": {
        "id": "aO-7t1Y7-hV4"
      },
      "source": [
        "# Import Libraries"
      ]
    },
    {
      "cell_type": "code",
      "execution_count": 1,
      "metadata": {
        "id": "8kH16rnZ7wt_"
      },
      "outputs": [],
      "source": [
        "from __future__ import print_function\n",
        "import torch\n",
        "import torch.nn as nn\n",
        "import torch.nn.functional as F\n",
        "import torch.optim as optim\n",
        "from torchvision import datasets, transforms"
      ]
    },
    {
      "cell_type": "markdown",
      "metadata": {
        "id": "oQciFYo2B1mO"
      },
      "source": [
        "# Dataset and Creating Train/Test Split"
      ]
    },
    {
      "cell_type": "code",
      "execution_count": 2,
      "metadata": {
        "colab": {
          "base_uri": "https://localhost:8080/"
        },
        "id": "_4A84rlfDA23",
        "outputId": "0a61b0f5-7ff5-464a-f32b-78e334782062"
      },
      "outputs": [
        {
          "output_type": "stream",
          "name": "stdout",
          "text": [
            "Files already downloaded and verified\n",
            "Files already downloaded and verified\n"
          ]
        }
      ],
      "source": [
        "from utils import train_transforms,test_transforms\n",
        "train_data = datasets.CIFAR10('./data', train=True, download=True, transform=train_transforms)\n",
        "test_data = datasets.CIFAR10('./data', train=False, download=True, transform=test_transforms)"
      ]
    },
    {
      "cell_type": "markdown",
      "metadata": {
        "id": "qgldp_3-Dn0c"
      },
      "source": [
        "# Dataloader Arguments & Test/Train Dataloaders\n"
      ]
    },
    {
      "cell_type": "code",
      "execution_count": 3,
      "metadata": {
        "colab": {
          "base_uri": "https://localhost:8080/"
        },
        "id": "C8OLDR79DrHG",
        "outputId": "96a7f508-7a29-4094-bd05-310e6f15a16f"
      },
      "outputs": [
        {
          "output_type": "stream",
          "name": "stdout",
          "text": [
            "CUDA Available? True\n"
          ]
        },
        {
          "output_type": "stream",
          "name": "stderr",
          "text": [
            "/usr/local/lib/python3.10/dist-packages/torch/utils/data/dataloader.py:560: UserWarning: This DataLoader will create 4 worker processes in total. Our suggested max number of worker in current system is 2, which is smaller than what this DataLoader is going to create. Please be aware that excessive worker creation might get DataLoader running slow or even freeze, lower the worker number to avoid potential slowness/freeze if necessary.\n",
            "  warnings.warn(_create_warning_msg(\n"
          ]
        }
      ],
      "source": [
        "SEED = 2\n",
        "\n",
        "# CUDA?\n",
        "cuda = torch.cuda.is_available()\n",
        "print(\"CUDA Available?\", cuda)\n",
        "\n",
        "# For reproducibility\n",
        "torch.manual_seed(SEED)\n",
        "\n",
        "if cuda:\n",
        "    torch.cuda.manual_seed(SEED)\n",
        "\n",
        "# dataloader arguments - something you'll fetch these from cmdprmt\n",
        "args = dict(shuffle=True, batch_size=128, num_workers=4, pin_memory=True)\n",
        "\n",
        "# train dataloader\n",
        "train_loader = torch.utils.data.DataLoader(train_data,**args)\n",
        "\n",
        "# test dataloader\n",
        "test_loader = torch.utils.data.DataLoader(test_data, **args)"
      ]
    },
    {
      "cell_type": "code",
      "execution_count": 4,
      "metadata": {
        "colab": {
          "base_uri": "https://localhost:8080/"
        },
        "id": "NDHC0_byQf2Y",
        "outputId": "ac871491-2f45-43b6-e0f9-563878b0c92f"
      },
      "outputs": [
        {
          "output_type": "stream",
          "name": "stdout",
          "text": [
            "(50000, 32, 32, 3)\n",
            "(10000, 32, 32, 3)\n",
            "10\n"
          ]
        }
      ],
      "source": [
        "# Shape of the train data\n",
        "print (train_data.data.shape)\n",
        "# Shape of the test data\n",
        "print (test_data.data.shape)\n",
        "\n",
        "# Number of categories in the data\n",
        "print (len(train_data.classes))"
      ]
    },
    {
      "cell_type": "code",
      "execution_count": 5,
      "metadata": {
        "colab": {
          "base_uri": "https://localhost:8080/",
          "height": 448
        },
        "id": "qN7BAZ__Qbdd",
        "outputId": "fe40d051-5b13-4879-9b63-121a3e7e9ede"
      },
      "outputs": [
        {
          "output_type": "display_data",
          "data": {
            "text/plain": [
              "<Figure size 640x480 with 1 Axes>"
            ],
            "image/png": "[encoded data removed]"
          },
          "metadata": {}
        },
        {
          "output_type": "stream",
          "name": "stdout",
          "text": [
            "automobile\n"
          ]
        }
      ],
      "source": [
        "# Visualizing an image from train data\n",
        "import matplotlib.pyplot as plt\n",
        "img = train_data.data[99]\n",
        "label = train_data.targets[99]\n",
        "\n",
        "plt.imshow(img)\n",
        "plt.show()\n",
        "\n",
        "for key, value in enumerate(train_data.class_to_idx):\n",
        "  if key == label:\n",
        "      print (value)"
      ]
    },
    {
      "cell_type": "code",
      "execution_count": 6,
      "metadata": {
        "colab": {
          "base_uri": "https://localhost:8080/"
        },
        "id": "YRS1__Dt4SBw",
        "outputId": "69f2e70d-53ab-4527-c924-be433529c802"
      },
      "outputs": [
        {
          "output_type": "stream",
          "name": "stdout",
          "text": [
            "Requirement already satisfied: torchsummary in /usr/local/lib/python3.10/dist-packages (1.5.1)\n",
            "cuda\n",
            "----------------------------------------------------------------\n",
            "        Layer (type)               Output Shape         Param #\n",
            "================================================================\n",
            "            Conv2d-1           [-1, 16, 32, 32]             432\n",
            "         GroupNorm-2           [-1, 16, 32, 32]              32\n",
            "           Dropout-3           [-1, 16, 32, 32]               0\n",
            "            Conv2d-4           [-1, 16, 32, 32]           2,304\n",
            "         GroupNorm-5           [-1, 16, 32, 32]              32\n",
            "           Dropout-6           [-1, 16, 32, 32]               0\n",
            "            Conv2d-7            [-1, 8, 32, 32]             128\n",
            "         MaxPool2d-8            [-1, 8, 16, 16]               0\n",
            "            Conv2d-9           [-1, 24, 16, 16]           1,728\n",
            "        GroupNorm-10           [-1, 24, 16, 16]              48\n",
            "          Dropout-11           [-1, 24, 16, 16]               0\n",
            "           Conv2d-12           [-1, 24, 16, 16]           5,184\n",
            "        GroupNorm-13           [-1, 24, 16, 16]              48\n",
            "          Dropout-14           [-1, 24, 16, 16]               0\n",
            "           Conv2d-15           [-1, 24, 16, 16]           5,184\n",
            "        GroupNorm-16           [-1, 24, 16, 16]              48\n",
            "          Dropout-17           [-1, 24, 16, 16]               0\n",
            "           Conv2d-18            [-1, 8, 16, 16]             192\n",
            "        MaxPool2d-19              [-1, 8, 8, 8]               0\n",
            "           Conv2d-20             [-1, 32, 8, 8]           2,304\n",
            "        GroupNorm-21             [-1, 32, 8, 8]              64\n",
            "          Dropout-22             [-1, 32, 8, 8]               0\n",
            "           Conv2d-23             [-1, 32, 8, 8]           9,216\n",
            "        GroupNorm-24             [-1, 32, 8, 8]              64\n",
            "          Dropout-25             [-1, 32, 8, 8]               0\n",
            "           Conv2d-26             [-1, 32, 8, 8]           9,216\n",
            "        GroupNorm-27             [-1, 32, 8, 8]              64\n",
            "          Dropout-28             [-1, 32, 8, 8]               0\n",
            "        AvgPool2d-29             [-1, 32, 1, 1]               0\n",
            "           Conv2d-30             [-1, 10, 1, 1]             320\n",
            "================================================================\n",
            "Total params: 36,608\n",
            "Trainable params: 36,608\n",
            "Non-trainable params: 0\n",
            "----------------------------------------------------------------\n",
            "Input size (MB): 0.01\n",
            "Forward/backward pass size (MB): 1.41\n",
            "Params size (MB): 0.14\n",
            "Estimated Total Size (MB): 1.56\n",
            "----------------------------------------------------------------\n"
          ]
        }
      ],
      "source": [
        "# Model Summary\n",
        "from model import Model_Norm\n",
        "!pip install torchsummary\n",
        "from torchsummary import summary\n",
        "use_cuda = torch.cuda.is_available()\n",
        "device = torch.device(\"cuda\" if use_cuda else \"cpu\")\n",
        "print(device)\n",
        "model = Model_Norm(norm_type='gn').to(device)\n",
        "summary(model, input_size=(3, 32, 32))"
      ]
    },
    {
      "cell_type": "code",
      "execution_count": 7,
      "metadata": {
        "id": "NSgpCVul5ipH"
      },
      "outputs": [],
      "source": [
        "# Training And Testing"
      ]
    },
    {
      "cell_type": "code",
      "execution_count": 8,
      "metadata": {
        "colab": {
          "base_uri": "https://localhost:8080/"
        },
        "id": "8LF9EvbzMSXj",
        "outputId": "17e04923-150a-42da-fce6-eeb73ad06ef1"
      },
      "outputs": [
        {
          "output_type": "stream",
          "name": "stdout",
          "text": [
            "EPOCH: 0\n"
          ]
        },
        {
          "output_type": "stream",
          "name": "stderr",
          "text": [
            "Loss=1.5893195867538452 Batch_id=390 Accuracy=36.54: 100%|██████████| 391/391 [00:57<00:00,  6.84it/s]\n"
          ]
        },
        {
          "output_type": "stream",
          "name": "stdout",
          "text": [
            "\n",
            "Test set: Average loss: 1.5382, Accuracy: 4448/10000 (44.48%)\n",
            "\n",
            "EPOCH: 1\n"
          ]
        },
        {
          "output_type": "stream",
          "name": "stderr",
          "text": [
            "Loss=1.2479809522628784 Batch_id=390 Accuracy=48.37: 100%|██████████| 391/391 [00:48<00:00,  8.12it/s]\n"
          ]
        },
        {
          "output_type": "stream",
          "name": "stdout",
          "text": [
            "\n",
            "Test set: Average loss: 1.2569, Accuracy: 5369/10000 (53.69%)\n",
            "\n",
            "EPOCH: 2\n"
          ]
        },
        {
          "output_type": "stream",
          "name": "stderr",
          "text": [
            "Loss=1.1360158920288086 Batch_id=390 Accuracy=54.19: 100%|██████████| 391/391 [00:49<00:00,  7.85it/s]\n"
          ]
        },
        {
          "output_type": "stream",
          "name": "stdout",
          "text": [
            "\n",
            "Test set: Average loss: 1.1916, Accuracy: 5787/10000 (57.87%)\n",
            "\n",
            "EPOCH: 3\n"
          ]
        },
        {
          "output_type": "stream",
          "name": "stderr",
          "text": [
            "Loss=1.225823998451233 Batch_id=390 Accuracy=57.40: 100%|██████████| 391/391 [00:48<00:00,  8.01it/s]\n"
          ]
        },
        {
          "output_type": "stream",
          "name": "stdout",
          "text": [
            "\n",
            "Test set: Average loss: 1.0618, Accuracy: 6246/10000 (62.46%)\n",
            "\n",
            "EPOCH: 4\n"
          ]
        },
        {
          "output_type": "stream",
          "name": "stderr",
          "text": [
            "Loss=1.0641520023345947 Batch_id=390 Accuracy=60.01: 100%|██████████| 391/391 [00:49<00:00,  7.98it/s]\n"
          ]
        },
        {
          "output_type": "stream",
          "name": "stdout",
          "text": [
            "\n",
            "Test set: Average loss: 1.0420, Accuracy: 6369/10000 (63.69%)\n",
            "\n",
            "EPOCH: 5\n"
          ]
        },
        {
          "output_type": "stream",
          "name": "stderr",
          "text": [
            "Loss=0.8589842915534973 Batch_id=390 Accuracy=61.90: 100%|██████████| 391/391 [00:49<00:00,  7.88it/s]\n"
          ]
        },
        {
          "output_type": "stream",
          "name": "stdout",
          "text": [
            "\n",
            "Test set: Average loss: 0.9986, Accuracy: 6427/10000 (64.27%)\n",
            "\n",
            "EPOCH: 6\n"
          ]
        },
        {
          "output_type": "stream",
          "name": "stderr",
          "text": [
            "Loss=1.0330588817596436 Batch_id=390 Accuracy=65.60: 100%|██████████| 391/391 [00:49<00:00,  7.91it/s]\n"
          ]
        },
        {
          "output_type": "stream",
          "name": "stdout",
          "text": [
            "\n",
            "Test set: Average loss: 0.9406, Accuracy: 6677/10000 (66.77%)\n",
            "\n",
            "EPOCH: 7\n"
          ]
        },
        {
          "output_type": "stream",
          "name": "stderr",
          "text": [
            "Loss=0.9482709169387817 Batch_id=390 Accuracy=65.72: 100%|██████████| 391/391 [00:49<00:00,  7.97it/s]\n"
          ]
        },
        {
          "output_type": "stream",
          "name": "stdout",
          "text": [
            "\n",
            "Test set: Average loss: 0.9169, Accuracy: 6744/10000 (67.44%)\n",
            "\n",
            "EPOCH: 8\n"
          ]
        },
        {
          "output_type": "stream",
          "name": "stderr",
          "text": [
            "Loss=1.0225317478179932 Batch_id=390 Accuracy=66.32: 100%|██████████| 391/391 [00:48<00:00,  7.98it/s]\n"
          ]
        },
        {
          "output_type": "stream",
          "name": "stdout",
          "text": [
            "\n",
            "Test set: Average loss: 0.9258, Accuracy: 6697/10000 (66.97%)\n",
            "\n",
            "EPOCH: 9\n"
          ]
        },
        {
          "output_type": "stream",
          "name": "stderr",
          "text": [
            "Loss=0.9989593625068665 Batch_id=390 Accuracy=66.52: 100%|██████████| 391/391 [00:49<00:00,  7.85it/s]\n"
          ]
        },
        {
          "output_type": "stream",
          "name": "stdout",
          "text": [
            "\n",
            "Test set: Average loss: 0.9142, Accuracy: 6766/10000 (67.66%)\n",
            "\n",
            "EPOCH: 10\n"
          ]
        },
        {
          "output_type": "stream",
          "name": "stderr",
          "text": [
            "Loss=0.9339269399642944 Batch_id=390 Accuracy=66.67: 100%|██████████| 391/391 [00:50<00:00,  7.82it/s]\n"
          ]
        },
        {
          "output_type": "stream",
          "name": "stdout",
          "text": [
            "\n",
            "Test set: Average loss: 0.9139, Accuracy: 6778/10000 (67.78%)\n",
            "\n",
            "EPOCH: 11\n"
          ]
        },
        {
          "output_type": "stream",
          "name": "stderr",
          "text": [
            "Loss=1.0744869709014893 Batch_id=390 Accuracy=66.82: 100%|██████████| 391/391 [00:50<00:00,  7.69it/s]\n"
          ]
        },
        {
          "output_type": "stream",
          "name": "stdout",
          "text": [
            "\n",
            "Test set: Average loss: 0.9040, Accuracy: 6787/10000 (67.87%)\n",
            "\n",
            "EPOCH: 12\n"
          ]
        },
        {
          "output_type": "stream",
          "name": "stderr",
          "text": [
            "Loss=0.8159489631652832 Batch_id=390 Accuracy=67.22: 100%|██████████| 391/391 [00:50<00:00,  7.67it/s]\n"
          ]
        },
        {
          "output_type": "stream",
          "name": "stdout",
          "text": [
            "\n",
            "Test set: Average loss: 0.9005, Accuracy: 6811/10000 (68.11%)\n",
            "\n",
            "EPOCH: 13\n"
          ]
        },
        {
          "output_type": "stream",
          "name": "stderr",
          "text": [
            "Loss=0.8793666958808899 Batch_id=390 Accuracy=67.30: 100%|██████████| 391/391 [00:50<00:00,  7.68it/s]\n"
          ]
        },
        {
          "output_type": "stream",
          "name": "stdout",
          "text": [
            "\n",
            "Test set: Average loss: 0.9033, Accuracy: 6797/10000 (67.97%)\n",
            "\n",
            "EPOCH: 14\n"
          ]
        },
        {
          "output_type": "stream",
          "name": "stderr",
          "text": [
            "Loss=1.0208778381347656 Batch_id=390 Accuracy=67.39: 100%|██████████| 391/391 [00:50<00:00,  7.70it/s]\n"
          ]
        },
        {
          "output_type": "stream",
          "name": "stdout",
          "text": [
            "\n",
            "Test set: Average loss: 0.8979, Accuracy: 6811/10000 (68.11%)\n",
            "\n",
            "EPOCH: 15\n"
          ]
        },
        {
          "output_type": "stream",
          "name": "stderr",
          "text": [
            "Loss=0.8684247732162476 Batch_id=390 Accuracy=67.23: 100%|██████████| 391/391 [00:51<00:00,  7.65it/s]\n"
          ]
        },
        {
          "output_type": "stream",
          "name": "stdout",
          "text": [
            "\n",
            "Test set: Average loss: 0.9005, Accuracy: 6812/10000 (68.12%)\n",
            "\n",
            "EPOCH: 16\n"
          ]
        },
        {
          "output_type": "stream",
          "name": "stderr",
          "text": [
            "Loss=0.8890899419784546 Batch_id=390 Accuracy=67.45: 100%|██████████| 391/391 [00:50<00:00,  7.78it/s]\n"
          ]
        },
        {
          "output_type": "stream",
          "name": "stdout",
          "text": [
            "\n",
            "Test set: Average loss: 0.8967, Accuracy: 6820/10000 (68.20%)\n",
            "\n",
            "EPOCH: 17\n"
          ]
        },
        {
          "output_type": "stream",
          "name": "stderr",
          "text": [
            "Loss=0.8921225666999817 Batch_id=390 Accuracy=67.37: 100%|██████████| 391/391 [00:50<00:00,  7.82it/s]\n"
          ]
        },
        {
          "output_type": "stream",
          "name": "stdout",
          "text": [
            "\n",
            "Test set: Average loss: 0.8940, Accuracy: 6821/10000 (68.21%)\n",
            "\n",
            "EPOCH: 18\n"
          ]
        },
        {
          "output_type": "stream",
          "name": "stderr",
          "text": [
            "Loss=0.6945034265518188 Batch_id=390 Accuracy=67.36: 100%|██████████| 391/391 [00:50<00:00,  7.75it/s]\n"
          ]
        },
        {
          "output_type": "stream",
          "name": "stdout",
          "text": [
            "\n",
            "Test set: Average loss: 0.8968, Accuracy: 6813/10000 (68.13%)\n",
            "\n",
            "EPOCH: 19\n"
          ]
        },
        {
          "output_type": "stream",
          "name": "stderr",
          "text": [
            "Loss=1.1051573753356934 Batch_id=390 Accuracy=67.49: 100%|██████████| 391/391 [01:00<00:00,  6.42it/s]\n"
          ]
        },
        {
          "output_type": "stream",
          "name": "stdout",
          "text": [
            "\n",
            "Test set: Average loss: 0.8975, Accuracy: 6812/10000 (68.12%)\n",
            "\n"
          ]
        }
      ],
      "source": [
        "from torch.optim.lr_scheduler import StepLR\n",
        "from model import train,test\n",
        "model =  Model_Norm(norm_type='gn').to(device)\n",
        "optimizer = optim.SGD(model.parameters(), lr=0.01, momentum=0.9)\n",
        "scheduler = StepLR(optimizer, step_size=6, gamma=0.1)\n",
        "EPOCHS = 20\n",
        "for epoch in range(EPOCHS):\n",
        "    print(\"EPOCH:\", epoch)\n",
        "    train(model, device, train_loader, optimizer, epoch)\n",
        "    scheduler.step()\n",
        "    test(model, device, test_loader)"
      ]
    },
    {
      "cell_type": "code",
      "execution_count": 11,
      "metadata": {
        "id": "Gpi6B__uNLSy"
      },
      "outputs": [],
      "source": [
        "\n",
        "# Wrong predictions\n",
        "cnt=0\n",
        "import random\n",
        "data, target = next(iter(test_loader))\n",
        "data, target = data.to(device), target.to(device)\n",
        "output = model(data)\n",
        "pred = output.argmax(dim=1, keepdim=True)\n",
        "img_lst=[]\n",
        "cat_lst=[]\n",
        "x_lst=[]\n",
        "for i in range(0,127):\n",
        "  x = random.randint(0,127)\n",
        "\n",
        "  if pred[x].item()!=target[x].item():\n",
        "    img=data[x].cpu().numpy().T\n",
        "    img_lst.append(img)\n",
        "    cat=[value for key,value in enumerate(train_data.class_to_idx) if key==target[x].item()][0]\n",
        "    cat_lst.append(cat)\n",
        "    x_lst.append(x)\n",
        "    cnt+=1\n",
        "  if cnt>9:\n",
        "    break"
      ]
    },
    {
      "cell_type": "code",
      "execution_count": 12,
      "metadata": {
        "colab": {
          "base_uri": "https://localhost:8080/",
          "height": 662
        },
        "id": "G8HnUGgqu1H1",
        "outputId": "f4280bc4-9ebe-418e-9671-43f325f5f6c3"
      },
      "outputs": [
        {
          "output_type": "stream",
          "name": "stderr",
          "text": [
            "WARNING:matplotlib.image:Clipping input data to the valid range for imshow with RGB data ([0..1] for floats or [0..255] for integers).\n",
            "WARNING:matplotlib.image:Clipping input data to the valid range for imshow with RGB data ([0..1] for floats or [0..255] for integers).\n",
            "WARNING:matplotlib.image:Clipping input data to the valid range for imshow with RGB data ([0..1] for floats or [0..255] for integers).\n",
            "WARNING:matplotlib.image:Clipping input data to the valid range for imshow with RGB data ([0..1] for floats or [0..255] for integers).\n",
            "WARNING:matplotlib.image:Clipping input data to the valid range for imshow with RGB data ([0..1] for floats or [0..255] for integers).\n",
            "WARNING:matplotlib.image:Clipping input data to the valid range for imshow with RGB data ([0..1] for floats or [0..255] for integers).\n",
            "WARNING:matplotlib.image:Clipping input data to the valid range for imshow with RGB data ([0..1] for floats or [0..255] for integers).\n",
            "WARNING:matplotlib.image:Clipping input data to the valid range for imshow with RGB data ([0..1] for floats or [0..255] for integers).\n",
            "WARNING:matplotlib.image:Clipping input data to the valid range for imshow with RGB data ([0..1] for floats or [0..255] for integers).\n",
            "WARNING:matplotlib.image:Clipping input data to the valid range for imshow with RGB data ([0..1] for floats or [0..255] for integers).\n"
          ]
        },
        {
          "output_type": "display_data",
          "data": {
            "text/plain": [
              "<Figure size 640x480 with 10 Axes>"
            ],
            "image/png": "[encoded data removed]"
          },
          "metadata": {}
        }
      ],
      "source": [
        "for i in range(10):\n",
        "  plt.subplot(5,2,i+1)\n",
        "  plt.tight_layout()\n",
        "  plt.imshow(img_lst[i])\n",
        "  plt.title(cat_lst[i])\n",
        "  plt.xticks([])\n",
        "  plt.yticks([])"
      ]
    },
    {
      "cell_type": "code",
      "execution_count": 10,
      "metadata": {
        "id": "ItDFyJR_z68J"
      },
      "outputs": [],
      "source": []
    }
  ],
  "metadata": {
    "accelerator": "GPU",
    "colab": {
      "provenance": []
    },
    "kernelspec": {
      "display_name": "Python 3",
      "name": "python3"
    }
  },
  "nbformat": 4,
  "nbformat_minor": 0
}
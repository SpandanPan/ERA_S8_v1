{
  "cells": [
    {
      "cell_type": "markdown",
      "metadata": {
        "id": "aO-7t1Y7-hV4"
      },
      "source": [
        "# Import Libraries"
      ]
    },
    {
      "cell_type": "code",
      "execution_count": 1,
      "metadata": {
        "id": "8kH16rnZ7wt_"
      },
      "outputs": [],
      "source": [
        "from __future__ import print_function\n",
        "import torch\n",
        "import torch.nn as nn\n",
        "import torch.nn.functional as F\n",
        "import torch.optim as optim\n",
        "from torchvision import datasets, transforms"
      ]
    },
    {
      "cell_type": "markdown",
      "metadata": {
        "id": "ky3f_Odl-7um"
      },
      "source": [
        "## Data Transformations\n",
        "\n",
        "We first start with defining our data transformations. We need to think what our data is and how can we augment it to correct represent images which it might not see otherwise.\n"
      ]
    },
    {
      "cell_type": "code",
      "execution_count": 2,
      "metadata": {
        "id": "YtssFUKb-jqx"
      },
      "outputs": [],
      "source": [
        "# Train Phase transformations\n",
        "train_transforms = transforms.Compose([\n",
        "                                      #  transforms.Resize((28, 28)),\n",
        "                                       transforms.ColorJitter(brightness=0.10, contrast=0.1, saturation=0.10, hue=0.1),\n",
        "                                       transforms.RandomRotation((-10.0,10.0)),\n",
        "                                       transforms.RandomHorizontalFlip(),\n",
        "                                       #transforms.RandomAffine(0, shear=10, scale=(0.8,1.2)),\n",
        "                                       transforms.ToTensor(),\n",
        "                                       transforms.Normalize((0.4915, 0.4823, .4468), (0.2470, 0.2435, 0.2616))\n",
        "                                       ])\n",
        "\n",
        "# Test Phase transformations\n",
        "test_transforms = transforms.Compose([\n",
        "                                      #  transforms.Resize((28, 28)),\n",
        "                                      #  transforms.ColorJitter(brightness=0.10, contrast=0.1, saturation=0.10, hue=0.1),\n",
        "                                       transforms.ToTensor(),\n",
        "                                       transforms.Normalize((0.4915, 0.4823, .4468), (0.2470, 0.2435, 0.2616))\n",
        "                                       ])\n"
      ]
    },
    {
      "cell_type": "markdown",
      "metadata": {
        "id": "oQciFYo2B1mO"
      },
      "source": [
        "# Dataset and Creating Train/Test Split"
      ]
    },
    {
      "cell_type": "code",
      "execution_count": 3,
      "metadata": {
        "colab": {
          "base_uri": "https://localhost:8080/"
        },
        "id": "_4A84rlfDA23",
        "outputId": "ba737ea9-9ce4-49cc-ae7c-089135f427aa"
      },
      "outputs": [
        {
          "output_type": "stream",
          "name": "stdout",
          "text": [
            "Downloading https://www.cs.toronto.edu/~kriz/cifar-10-python.tar.gz to ./data/cifar-10-python.tar.gz\n"
          ]
        },
        {
          "output_type": "stream",
          "name": "stderr",
          "text": [
            "100%|██████████| 170498071/170498071 [00:03<00:00, 46973131.65it/s]\n"
          ]
        },
        {
          "output_type": "stream",
          "name": "stdout",
          "text": [
            "Extracting ./data/cifar-10-python.tar.gz to ./data\n",
            "Files already downloaded and verified\n"
          ]
        }
      ],
      "source": [
        "train_data = datasets.CIFAR10('./data', train=True, download=True, transform=train_transforms)\n",
        "test_data = datasets.CIFAR10('./data', train=False, download=True, transform=test_transforms)"
      ]
    },
    {
      "cell_type": "markdown",
      "metadata": {
        "id": "qgldp_3-Dn0c"
      },
      "source": [
        "# Dataloader Arguments & Test/Train Dataloaders\n"
      ]
    },
    {
      "cell_type": "code",
      "execution_count": 4,
      "metadata": {
        "colab": {
          "base_uri": "https://localhost:8080/"
        },
        "id": "C8OLDR79DrHG",
        "outputId": "f32a7828-0a07-45bd-b4ed-17b2c21cca1a"
      },
      "outputs": [
        {
          "output_type": "stream",
          "name": "stdout",
          "text": [
            "CUDA Available? True\n"
          ]
        },
        {
          "output_type": "stream",
          "name": "stderr",
          "text": [
            "/usr/local/lib/python3.10/dist-packages/torch/utils/data/dataloader.py:560: UserWarning: This DataLoader will create 4 worker processes in total. Our suggested max number of worker in current system is 2, which is smaller than what this DataLoader is going to create. Please be aware that excessive worker creation might get DataLoader running slow or even freeze, lower the worker number to avoid potential slowness/freeze if necessary.\n",
            "  warnings.warn(_create_warning_msg(\n"
          ]
        }
      ],
      "source": [
        "SEED = 2\n",
        "\n",
        "# CUDA?\n",
        "cuda = torch.cuda.is_available()\n",
        "print(\"CUDA Available?\", cuda)\n",
        "\n",
        "# For reproducibility\n",
        "torch.manual_seed(SEED)\n",
        "\n",
        "if cuda:\n",
        "    torch.cuda.manual_seed(SEED)\n",
        "\n",
        "# dataloader arguments - something you'll fetch these from cmdprmt\n",
        "args = dict(shuffle=True, batch_size=128, num_workers=4, pin_memory=True)\n",
        "\n",
        "# train dataloader\n",
        "train_loader = torch.utils.data.DataLoader(train_data,**args)\n",
        "\n",
        "# test dataloader\n",
        "test_loader = torch.utils.data.DataLoader(test_data, **args)"
      ]
    },
    {
      "cell_type": "code",
      "execution_count": 5,
      "metadata": {
        "colab": {
          "base_uri": "https://localhost:8080/"
        },
        "id": "NDHC0_byQf2Y",
        "outputId": "f0909216-9c98-4389-9add-548c68b13f68"
      },
      "outputs": [
        {
          "output_type": "stream",
          "name": "stdout",
          "text": [
            "(50000, 32, 32, 3)\n",
            "(10000, 32, 32, 3)\n",
            "10\n"
          ]
        }
      ],
      "source": [
        "# Shape of the train data\n",
        "print (train_data.data.shape)\n",
        "# Shape of the test data\n",
        "print (test_data.data.shape)\n",
        "\n",
        "# Number of categories in the data\n",
        "print (len(train_data.classes))"
      ]
    },
    {
      "cell_type": "code",
      "execution_count": 6,
      "metadata": {
        "colab": {
          "base_uri": "https://localhost:8080/",
          "height": 448
        },
        "id": "qN7BAZ__Qbdd",
        "outputId": "230bf88b-0000-45eb-c11f-754744ae1274"
      },
      "outputs": [
        {
          "output_type": "display_data",
          "data": {
            "text/plain": [
              "<Figure size 640x480 with 1 Axes>"
            ],
            "image/png": "[encoded data removed]"
          },
          "metadata": {}
        },
        {
          "output_type": "stream",
          "name": "stdout",
          "text": [
            "automobile\n"
          ]
        }
      ],
      "source": [
        "# Visualizing an image from train data\n",
        "import matplotlib.pyplot as plt\n",
        "img = train_data.data[99]\n",
        "label = train_data.targets[99]\n",
        "\n",
        "plt.imshow(img)\n",
        "plt.show()\n",
        "\n",
        "for key, value in enumerate(train_data.class_to_idx):\n",
        "  if key == label:\n",
        "      print (value)"
      ]
    },
    {
      "cell_type": "code",
      "execution_count": 7,
      "metadata": {
        "colab": {
          "base_uri": "https://localhost:8080/"
        },
        "id": "ifI7C_Vjh0_q",
        "outputId": "31b6e3ce-4170-4be8-ca53-2ef19048037a"
      },
      "outputs": [
        {
          "output_type": "stream",
          "name": "stdout",
          "text": [
            "tensor([-0.1014, -0.1022, -0.0846])\n",
            "tensor([1.0472, 1.0586, 1.0247])\n"
          ]
        }
      ],
      "source": [
        "# Calculating mean and std\n",
        "imgs = torch.stack([img_t for img_t ,_ in train_data],dim=3)\n",
        "print (imgs.view(3,-1).mean(dim=1))\n",
        "print (imgs.view(3,-1).std(dim=1))"
      ]
    },
    {
      "cell_type": "code",
      "execution_count": 8,
      "metadata": {
        "id": "M9bmFEqftEeG"
      },
      "outputs": [],
      "source": [
        "class Model_Norm(nn.Module):\n",
        "    def __init__(self,norm_type):\n",
        "        super(Model_Norm, self).__init__()\n",
        "        self.norm_type=norm_type\n",
        "        # Conv Layer 1\n",
        "        self.conv1 = nn.Conv2d(in_channels=3, out_channels=16, kernel_size=(3, 3), padding=1, bias=False)\n",
        "        if norm_type=='bn':\n",
        "          self.norm1=nn.BatchNorm2d(16)\n",
        "        elif norm_type=='ln':\n",
        "          self.norm1=nn.GroupNorm(num_groups=1,num_channels=10)\n",
        "        elif norm_type=='gn':\n",
        "          self.norm1=nn.GroupNorm(num_groups=2,num_channels=10)\n",
        "        self.dp1=nn.Dropout(p=0.1)\n",
        "\n",
        "       # Conv Layer 2\n",
        "        self.conv2 = nn.Conv2d(in_channels=16, out_channels=16, kernel_size=(3, 3), padding=1, bias=False)\n",
        "        if norm_type=='bn':\n",
        "          self.norm2=nn.BatchNorm2d(16)\n",
        "        elif norm_type=='ln':\n",
        "          self.norm2=nn.GroupNorm(num_groups=1,num_channels=10)\n",
        "        elif norm_type=='gn':\n",
        "          self.norm2=nn.GroupNorm(num_groups=4,num_channels=10)\n",
        "        self.dp2=nn.Dropout(p=0.1)\n",
        "\n",
        "       # TB Conv Layer1 1*1\n",
        "        self.conv_tb1 = nn.Conv2d(in_channels=16, out_channels=8, kernel_size=(1, 1), padding=0, bias=False)\n",
        "       # Max Pool Layer 1\n",
        "        self.pool1 = nn.MaxPool2d(kernel_size=2,stride=2)\n",
        "\n",
        "      # Conv Layer 3\n",
        "        self.conv3 = nn.Conv2d(in_channels=8, out_channels=24, kernel_size=(3, 3), padding=1, bias=False)\n",
        "        if norm_type=='bn':\n",
        "          self.norm3=nn.BatchNorm2d(24)\n",
        "        elif norm_type=='ln':\n",
        "          self.norm3=nn.GroupNorm(num_groups=1,num_channels=10)\n",
        "        elif norm_type=='gn':\n",
        "          self.norm3=nn.GroupNorm(num_groups=4,num_channels=10)\n",
        "        self.dp3=nn.Dropout(p=0.1)\n",
        "\n",
        "      # Conv Layer 4\n",
        "        self.conv4 = nn.Conv2d(in_channels=24, out_channels=24, kernel_size=(3, 3), padding=1, bias=False)\n",
        "        if norm_type=='bn':\n",
        "          self.norm4=nn.BatchNorm2d(24)\n",
        "        elif norm_type=='ln':\n",
        "          self.norm4=nn.GroupNorm(num_groups=1,num_channels=10)\n",
        "        elif norm_type=='gn':\n",
        "          self.norm4=nn.GroupNorm(num_groups=4,num_channels=10)\n",
        "        self.dp4=nn.Dropout(p=0.1)\n",
        "\n",
        "       # Conv Layer 5\n",
        "        self.conv5 = nn.Conv2d(in_channels=24, out_channels=24, kernel_size=(3, 3), padding=1, bias=False)\n",
        "        if norm_type=='bn':\n",
        "          self.norm5=nn.BatchNorm2d(24)\n",
        "        elif norm_type=='ln':\n",
        "          self.norm5=nn.GroupNorm(num_groups=1,num_channels=10)\n",
        "        elif norm_type=='gn':\n",
        "          self.norm5=nn.GroupNorm(num_groups=4,num_channels=10)\n",
        "        self.dp5=nn.Dropout(p=0.1)\n",
        "\n",
        "      # TB Conv Layer2 1*1\n",
        "        self.conv_tb2 = nn.Conv2d(in_channels=24, out_channels=8, kernel_size=(1, 1), padding=0, bias=False)\n",
        "       # Max Pool Layer 2\n",
        "        self.pool2 = nn.MaxPool2d(kernel_size=2,stride=2)\n",
        "\n",
        "       # Conv Layer 6\n",
        "        self.conv6 = nn.Conv2d(in_channels=8, out_channels=32, kernel_size=(3, 3), padding=1, bias=False)\n",
        "        if norm_type=='bn':\n",
        "          self.norm6=nn.BatchNorm2d(32)\n",
        "        elif norm_type=='ln':\n",
        "          self.norm6=nn.GroupNorm(num_groups=1,num_channels=10)\n",
        "        elif norm_type=='gn':\n",
        "          self.norm6=nn.GroupNorm(num_groups=4,num_channels=10)\n",
        "        self.dp6=nn.Dropout(p=0.1)\n",
        "\n",
        "      # Conv Layer 7\n",
        "        self.conv7 = nn.Conv2d(in_channels=32, out_channels=32, kernel_size=(3, 3), padding=1, bias=False)\n",
        "        if norm_type=='bn':\n",
        "          self.norm7=nn.BatchNorm2d(32)\n",
        "        elif norm_type=='ln':\n",
        "          self.norm7=nn.GroupNorm(num_groups=1,num_channels=10)\n",
        "        elif norm_type=='gn':\n",
        "          self.norm7=nn.GroupNorm(num_groups=4,num_channels=10)\n",
        "        self.dp7=nn.Dropout(p=0.1)\n",
        "\n",
        "       # Conv Layer 8\n",
        "        self.conv8 = nn.Conv2d(in_channels=32, out_channels=32, kernel_size=(3, 3), padding=1, bias=False)\n",
        "        if norm_type=='bn':\n",
        "          self.norm8=nn.BatchNorm2d(32)\n",
        "        elif norm_type=='ln':\n",
        "          self.norm8=nn.GroupNorm(num_groups=1,num_channels=10)\n",
        "        elif norm_type=='gn':\n",
        "          self.norm8=nn.GroupNorm(num_groups=4,num_channels=10)\n",
        "        self.dp8=nn.Dropout(p=0.1)\n",
        "\n",
        "       # GAP Layer\n",
        "        self.gap = nn.Sequential(nn.AvgPool2d(kernel_size=8))\n",
        "\n",
        "       # Output Layer\n",
        "        self.conv9 = nn.Conv2d(in_channels=32, out_channels=10, kernel_size=(1, 1), padding=0, bias=False)\n",
        "\n",
        "\n",
        "    def forward(self, x):\n",
        "        x = self.dp1(self.norm1(F.relu(self.conv1(x))))\n",
        "        x = x+self.dp2(self.norm2(F.relu(self.conv2(x))))\n",
        "        x = self.pool1(self.conv_tb1(x))\n",
        "        x = self.dp3(self.norm3(F.relu(self.conv3(x))))\n",
        "        x = x+self.dp4(self.norm4(F.relu(self.conv4(x))))\n",
        "        x = x + self.dp5(self.norm5(F.relu(self.conv5(x))))\n",
        "        x=  self.pool2(self.conv_tb2(x))\n",
        "        x = self.dp6(self.norm6(F.relu(self.conv6(x))))\n",
        "        x = x+self.dp7(self.norm7(F.relu(self.conv7(x))))\n",
        "        x = x+self.dp8(self.norm8(F.relu(self.conv8(x))))\n",
        "        x = self.gap(x)\n",
        "        x = self.conv9(x)\n",
        "        x = x.view(-1, 10)\n",
        "        return F.log_softmax(x, dim=-1)"
      ]
    },
    {
      "cell_type": "code",
      "execution_count": 9,
      "metadata": {
        "colab": {
          "base_uri": "https://localhost:8080/"
        },
        "id": "YRS1__Dt4SBw",
        "outputId": "4056aa6f-7172-4ba3-b34b-958004fb5ddb"
      },
      "outputs": [
        {
          "output_type": "stream",
          "name": "stdout",
          "text": [
            "Requirement already satisfied: torchsummary in /usr/local/lib/python3.10/dist-packages (1.5.1)\n",
            "cuda\n",
            "----------------------------------------------------------------\n",
            "        Layer (type)               Output Shape         Param #\n",
            "================================================================\n",
            "            Conv2d-1           [-1, 16, 32, 32]             432\n",
            "       BatchNorm2d-2           [-1, 16, 32, 32]              32\n",
            "           Dropout-3           [-1, 16, 32, 32]               0\n",
            "            Conv2d-4           [-1, 16, 32, 32]           2,304\n",
            "       BatchNorm2d-5           [-1, 16, 32, 32]              32\n",
            "           Dropout-6           [-1, 16, 32, 32]               0\n",
            "            Conv2d-7            [-1, 8, 32, 32]             128\n",
            "         MaxPool2d-8            [-1, 8, 16, 16]               0\n",
            "            Conv2d-9           [-1, 24, 16, 16]           1,728\n",
            "      BatchNorm2d-10           [-1, 24, 16, 16]              48\n",
            "          Dropout-11           [-1, 24, 16, 16]               0\n",
            "           Conv2d-12           [-1, 24, 16, 16]           5,184\n",
            "      BatchNorm2d-13           [-1, 24, 16, 16]              48\n",
            "          Dropout-14           [-1, 24, 16, 16]               0\n",
            "           Conv2d-15           [-1, 24, 16, 16]           5,184\n",
            "      BatchNorm2d-16           [-1, 24, 16, 16]              48\n",
            "          Dropout-17           [-1, 24, 16, 16]               0\n",
            "           Conv2d-18            [-1, 8, 16, 16]             192\n",
            "        MaxPool2d-19              [-1, 8, 8, 8]               0\n",
            "           Conv2d-20             [-1, 32, 8, 8]           2,304\n",
            "      BatchNorm2d-21             [-1, 32, 8, 8]              64\n",
            "          Dropout-22             [-1, 32, 8, 8]               0\n",
            "           Conv2d-23             [-1, 32, 8, 8]           9,216\n",
            "      BatchNorm2d-24             [-1, 32, 8, 8]              64\n",
            "          Dropout-25             [-1, 32, 8, 8]               0\n",
            "           Conv2d-26             [-1, 32, 8, 8]           9,216\n",
            "      BatchNorm2d-27             [-1, 32, 8, 8]              64\n",
            "          Dropout-28             [-1, 32, 8, 8]               0\n",
            "        AvgPool2d-29             [-1, 32, 1, 1]               0\n",
            "           Conv2d-30             [-1, 10, 1, 1]             320\n",
            "================================================================\n",
            "Total params: 36,608\n",
            "Trainable params: 36,608\n",
            "Non-trainable params: 0\n",
            "----------------------------------------------------------------\n",
            "Input size (MB): 0.01\n",
            "Forward/backward pass size (MB): 1.41\n",
            "Params size (MB): 0.14\n",
            "Estimated Total Size (MB): 1.56\n",
            "----------------------------------------------------------------\n"
          ]
        }
      ],
      "source": [
        "# Model Summary\n",
        "!pip install torchsummary\n",
        "from torchsummary import summary\n",
        "use_cuda = torch.cuda.is_available()\n",
        "device = torch.device(\"cuda\" if use_cuda else \"cpu\")\n",
        "print(device)\n",
        "model = Model_Norm(norm_type='bn').to(device)\n",
        "summary(model, input_size=(3, 32, 32))"
      ]
    },
    {
      "cell_type": "code",
      "execution_count": null,
      "metadata": {
        "id": "NSgpCVul5ipH"
      },
      "outputs": [],
      "source": [
        "# Training And Testing"
      ]
    },
    {
      "cell_type": "code",
      "execution_count": 10,
      "metadata": {
        "id": "kDQmfgUqHiKm"
      },
      "outputs": [],
      "source": [
        "from tqdm import tqdm\n",
        "\n",
        "train_losses = []\n",
        "test_losses = []\n",
        "train_acc = []\n",
        "test_acc = []\n",
        "\n",
        "def train(model, device, train_loader, optimizer, epoch):\n",
        "  model.train()\n",
        "  pbar = tqdm(train_loader)\n",
        "  correct = 0\n",
        "  processed = 0\n",
        "  for batch_idx, (data, target) in enumerate(pbar):\n",
        "    # get samples\n",
        "    data, target = data.to(device), target.to(device)\n",
        "\n",
        "    # Init\n",
        "    optimizer.zero_grad()\n",
        "    # In PyTorch, we need to set the gradients to zero before starting to do backpropragation because PyTorch accumulates the gradients on subsequent backward passes.\n",
        "    # Because of this, when you start your training loop, ideally you should zero out the gradients so that you do the parameter update correctly.\n",
        "\n",
        "    # Predict\n",
        "    y_pred = model(data)\n",
        "\n",
        "    # Calculate loss\n",
        "    loss = F.nll_loss(y_pred, target)\n",
        "    train_losses.append(loss)\n",
        "\n",
        "    # Backpropagation\n",
        "    loss.backward()\n",
        "    optimizer.step()\n",
        "\n",
        "    # Update pbar-tqdm\n",
        "\n",
        "    pred = y_pred.argmax(dim=1, keepdim=True)  # get the index of the max log-probability\n",
        "    correct += pred.eq(target.view_as(pred)).sum().item()\n",
        "    processed += len(data)\n",
        "\n",
        "    pbar.set_description(desc= f'Loss={loss.item()} Batch_id={batch_idx} Accuracy={100*correct/processed:0.2f}')\n",
        "    train_acc.append(100*correct/processed)\n",
        "\n",
        "\n",
        "def test(model, device, test_loader):\n",
        "    model.eval()\n",
        "    test_loss = 0\n",
        "    correct = 0\n",
        "    with torch.no_grad():\n",
        "        for data, target in test_loader:\n",
        "            data, target = data.to(device), target.to(device)\n",
        "            output = model(data)\n",
        "            test_loss += F.nll_loss(output, target, reduction='sum').item()  # sum up batch loss\n",
        "            pred = output.argmax(dim=1, keepdim=True)  # get the index of the max log-probability\n",
        "            correct += pred.eq(target.view_as(pred)).sum().item()\n",
        "\n",
        "    test_loss /= len(test_loader.dataset)\n",
        "\n",
        "    test_losses.append(test_loss)\n",
        "\n",
        "    print('\\nTest set: Average loss: {:.4f}, Accuracy: {}/{} ({:.2f}%)\\n'.format(\n",
        "        test_loss, correct, len(test_loader.dataset),\n",
        "        100. * correct / len(test_loader.dataset)))\n",
        "\n",
        "    test_acc.append(100. * correct / len(test_loader.dataset))\n",
        "    return test_loss\n"
      ]
    },
    {
      "cell_type": "code",
      "execution_count": 11,
      "metadata": {
        "colab": {
          "base_uri": "https://localhost:8080/"
        },
        "id": "8LF9EvbzMSXj",
        "outputId": "a2d90dce-af30-44ee-fae5-b0cc29fb6b24"
      },
      "outputs": [
        {
          "output_type": "stream",
          "name": "stdout",
          "text": [
            "EPOCH: 0\n"
          ]
        },
        {
          "output_type": "stream",
          "name": "stderr",
          "text": [
            "Loss=1.4184179306030273 Batch_id=390 Accuracy=40.05: 100%|██████████| 391/391 [00:49<00:00,  7.83it/s]\n"
          ]
        },
        {
          "output_type": "stream",
          "name": "stdout",
          "text": [
            "\n",
            "Test set: Average loss: 1.4039, Accuracy: 4843/10000 (48.43%)\n",
            "\n",
            "EPOCH: 1\n"
          ]
        },
        {
          "output_type": "stream",
          "name": "stderr",
          "text": [
            "Loss=1.328134536743164 Batch_id=390 Accuracy=52.98: 100%|██████████| 391/391 [00:50<00:00,  7.68it/s]\n"
          ]
        },
        {
          "output_type": "stream",
          "name": "stdout",
          "text": [
            "\n",
            "Test set: Average loss: 1.1876, Accuracy: 5669/10000 (56.69%)\n",
            "\n",
            "EPOCH: 2\n"
          ]
        },
        {
          "output_type": "stream",
          "name": "stderr",
          "text": [
            "Loss=1.1738730669021606 Batch_id=390 Accuracy=57.67: 100%|██████████| 391/391 [00:50<00:00,  7.80it/s]\n"
          ]
        },
        {
          "output_type": "stream",
          "name": "stdout",
          "text": [
            "\n",
            "Test set: Average loss: 1.1321, Accuracy: 5923/10000 (59.23%)\n",
            "\n",
            "EPOCH: 3\n"
          ]
        },
        {
          "output_type": "stream",
          "name": "stderr",
          "text": [
            "Loss=1.0854395627975464 Batch_id=390 Accuracy=60.43: 100%|██████████| 391/391 [00:49<00:00,  7.83it/s]\n"
          ]
        },
        {
          "output_type": "stream",
          "name": "stdout",
          "text": [
            "\n",
            "Test set: Average loss: 1.0432, Accuracy: 6268/10000 (62.68%)\n",
            "\n",
            "EPOCH: 4\n"
          ]
        },
        {
          "output_type": "stream",
          "name": "stderr",
          "text": [
            "Loss=1.1626036167144775 Batch_id=390 Accuracy=62.26: 100%|██████████| 391/391 [00:50<00:00,  7.79it/s]\n"
          ]
        },
        {
          "output_type": "stream",
          "name": "stdout",
          "text": [
            "\n",
            "Test set: Average loss: 1.0094, Accuracy: 6418/10000 (64.18%)\n",
            "\n",
            "EPOCH: 5\n"
          ]
        },
        {
          "output_type": "stream",
          "name": "stderr",
          "text": [
            "Loss=1.0573418140411377 Batch_id=390 Accuracy=63.88: 100%|██████████| 391/391 [00:49<00:00,  7.86it/s]\n"
          ]
        },
        {
          "output_type": "stream",
          "name": "stdout",
          "text": [
            "\n",
            "Test set: Average loss: 1.0033, Accuracy: 6454/10000 (64.54%)\n",
            "\n",
            "EPOCH: 6\n"
          ]
        },
        {
          "output_type": "stream",
          "name": "stderr",
          "text": [
            "Loss=0.7768601179122925 Batch_id=390 Accuracy=66.28: 100%|██████████| 391/391 [00:49<00:00,  7.86it/s]\n"
          ]
        },
        {
          "output_type": "stream",
          "name": "stdout",
          "text": [
            "\n",
            "Test set: Average loss: 0.9054, Accuracy: 6813/10000 (68.13%)\n",
            "\n",
            "EPOCH: 7\n"
          ]
        },
        {
          "output_type": "stream",
          "name": "stderr",
          "text": [
            "Loss=0.9752264022827148 Batch_id=390 Accuracy=66.98: 100%|██████████| 391/391 [00:49<00:00,  7.89it/s]\n"
          ]
        },
        {
          "output_type": "stream",
          "name": "stdout",
          "text": [
            "\n",
            "Test set: Average loss: 0.8959, Accuracy: 6838/10000 (68.38%)\n",
            "\n",
            "EPOCH: 8\n"
          ]
        },
        {
          "output_type": "stream",
          "name": "stderr",
          "text": [
            "Loss=0.7978191375732422 Batch_id=390 Accuracy=67.16: 100%|██████████| 391/391 [00:49<00:00,  7.85it/s]\n"
          ]
        },
        {
          "output_type": "stream",
          "name": "stdout",
          "text": [
            "\n",
            "Test set: Average loss: 0.8892, Accuracy: 6900/10000 (69.00%)\n",
            "\n",
            "EPOCH: 9\n"
          ]
        },
        {
          "output_type": "stream",
          "name": "stderr",
          "text": [
            "Loss=1.0398063659667969 Batch_id=390 Accuracy=67.37: 100%|██████████| 391/391 [00:51<00:00,  7.57it/s]\n"
          ]
        },
        {
          "output_type": "stream",
          "name": "stdout",
          "text": [
            "\n",
            "Test set: Average loss: 0.8860, Accuracy: 6883/10000 (68.83%)\n",
            "\n",
            "EPOCH: 10\n"
          ]
        },
        {
          "output_type": "stream",
          "name": "stderr",
          "text": [
            "Loss=0.9116336703300476 Batch_id=390 Accuracy=67.73: 100%|██████████| 391/391 [00:50<00:00,  7.68it/s]\n"
          ]
        },
        {
          "output_type": "stream",
          "name": "stdout",
          "text": [
            "\n",
            "Test set: Average loss: 0.8756, Accuracy: 6937/10000 (69.37%)\n",
            "\n",
            "EPOCH: 11\n"
          ]
        },
        {
          "output_type": "stream",
          "name": "stderr",
          "text": [
            "Loss=0.7318438291549683 Batch_id=390 Accuracy=67.82: 100%|██████████| 391/391 [00:51<00:00,  7.60it/s]\n"
          ]
        },
        {
          "output_type": "stream",
          "name": "stdout",
          "text": [
            "\n",
            "Test set: Average loss: 0.8799, Accuracy: 6930/10000 (69.30%)\n",
            "\n",
            "EPOCH: 12\n"
          ]
        },
        {
          "output_type": "stream",
          "name": "stderr",
          "text": [
            "Loss=0.6591247916221619 Batch_id=390 Accuracy=68.16: 100%|██████████| 391/391 [00:55<00:00,  7.09it/s]\n"
          ]
        },
        {
          "output_type": "stream",
          "name": "stdout",
          "text": [
            "\n",
            "Test set: Average loss: 0.8608, Accuracy: 6983/10000 (69.83%)\n",
            "\n",
            "EPOCH: 13\n"
          ]
        },
        {
          "output_type": "stream",
          "name": "stderr",
          "text": [
            "Loss=0.7545410990715027 Batch_id=390 Accuracy=68.28: 100%|██████████| 391/391 [00:55<00:00,  7.01it/s]\n"
          ]
        },
        {
          "output_type": "stream",
          "name": "stdout",
          "text": [
            "\n",
            "Test set: Average loss: 0.8608, Accuracy: 6989/10000 (69.89%)\n",
            "\n",
            "EPOCH: 14\n"
          ]
        },
        {
          "output_type": "stream",
          "name": "stderr",
          "text": [
            "Loss=0.8919620513916016 Batch_id=390 Accuracy=68.25: 100%|██████████| 391/391 [00:55<00:00,  7.06it/s]\n"
          ]
        },
        {
          "output_type": "stream",
          "name": "stdout",
          "text": [
            "\n",
            "Test set: Average loss: 0.8638, Accuracy: 6983/10000 (69.83%)\n",
            "\n",
            "EPOCH: 15\n"
          ]
        },
        {
          "output_type": "stream",
          "name": "stderr",
          "text": [
            "Loss=0.7538849115371704 Batch_id=390 Accuracy=68.16: 100%|██████████| 391/391 [00:55<00:00,  7.10it/s]\n"
          ]
        },
        {
          "output_type": "stream",
          "name": "stdout",
          "text": [
            "\n",
            "Test set: Average loss: 0.8615, Accuracy: 6996/10000 (69.96%)\n",
            "\n",
            "EPOCH: 16\n"
          ]
        },
        {
          "output_type": "stream",
          "name": "stderr",
          "text": [
            "Loss=0.9706606864929199 Batch_id=390 Accuracy=68.09: 100%|██████████| 391/391 [00:54<00:00,  7.17it/s]\n"
          ]
        },
        {
          "output_type": "stream",
          "name": "stdout",
          "text": [
            "\n",
            "Test set: Average loss: 0.8629, Accuracy: 6983/10000 (69.83%)\n",
            "\n",
            "EPOCH: 17\n"
          ]
        },
        {
          "output_type": "stream",
          "name": "stderr",
          "text": [
            "Loss=0.9162384867668152 Batch_id=390 Accuracy=67.97: 100%|██████████| 391/391 [00:54<00:00,  7.18it/s]\n"
          ]
        },
        {
          "output_type": "stream",
          "name": "stdout",
          "text": [
            "\n",
            "Test set: Average loss: 0.8625, Accuracy: 6984/10000 (69.84%)\n",
            "\n",
            "EPOCH: 18\n"
          ]
        },
        {
          "output_type": "stream",
          "name": "stderr",
          "text": [
            "Loss=1.0478864908218384 Batch_id=390 Accuracy=68.16: 100%|██████████| 391/391 [00:53<00:00,  7.24it/s]\n"
          ]
        },
        {
          "output_type": "stream",
          "name": "stdout",
          "text": [
            "\n",
            "Test set: Average loss: 0.8683, Accuracy: 6971/10000 (69.71%)\n",
            "\n",
            "EPOCH: 19\n"
          ]
        },
        {
          "output_type": "stream",
          "name": "stderr",
          "text": [
            "Loss=0.8491148948669434 Batch_id=390 Accuracy=68.18: 100%|██████████| 391/391 [00:52<00:00,  7.42it/s]\n"
          ]
        },
        {
          "output_type": "stream",
          "name": "stdout",
          "text": [
            "\n",
            "Test set: Average loss: 0.8638, Accuracy: 6978/10000 (69.78%)\n",
            "\n"
          ]
        }
      ],
      "source": [
        "from torch.optim.lr_scheduler import StepLR\n",
        "model =  Model_Norm(norm_type='bn').to(device)\n",
        "optimizer = optim.SGD(model.parameters(), lr=0.01, momentum=0.9)\n",
        "scheduler = StepLR(optimizer, step_size=6, gamma=0.1)\n",
        "EPOCHS = 20\n",
        "for epoch in range(EPOCHS):\n",
        "    print(\"EPOCH:\", epoch)\n",
        "    train(model, device, train_loader, optimizer, epoch)\n",
        "    scheduler.step()\n",
        "    test(model, device, test_loader)"
      ]
    },
    {
      "cell_type": "code",
      "execution_count": null,
      "metadata": {
        "colab": {
          "background_save": true
        },
        "id": "Gpi6B__uNLSy"
      },
      "outputs": [],
      "source": [
        "\n",
        "# Wrong predictions\n",
        "cnt=0\n",
        "import random\n",
        "data, target = next(iter(test_loader))\n",
        "data, target = data.to(device), target.to(device)\n",
        "output = model(data)\n",
        "pred = output.argmax(dim=1, keepdim=True)\n",
        "img_lst=[]\n",
        "cat_lst=[]\n",
        "x_lst=[]\n",
        "for i in range(0,127):\n",
        "  x = random.randint(0,127)\n",
        "\n",
        "  if pred[x].item()!=target[x].item():\n",
        "    img=data[x].cpu().numpy().T\n",
        "    img_lst.append(img)\n",
        "    cat=[value for key,value in enumerate(train_data.class_to_idx) if key==target[x].item()][0]\n",
        "    cat_lst.append(cat)\n",
        "    x_lst.append(x)\n",
        "    cnt+=1\n",
        "  if cnt>9:\n",
        "    break"
      ]
    },
    {
      "cell_type": "code",
      "execution_count": null,
      "metadata": {
        "colab": {
          "background_save": true
        },
        "id": "G8HnUGgqu1H1",
        "outputId": "39acbb5c-627e-4423-c3de-46b64d77c9d9"
      },
      "outputs": [
        {
          "name": "stderr",
          "output_type": "stream",
          "text": [
            "WARNING:matplotlib.image:Clipping input data to the valid range for imshow with RGB data ([0..1] for floats or [0..255] for integers).\n",
            "WARNING:matplotlib.image:Clipping input data to the valid range for imshow with RGB data ([0..1] for floats or [0..255] for integers).\n",
            "WARNING:matplotlib.image:Clipping input data to the valid range for imshow with RGB data ([0..1] for floats or [0..255] for integers).\n",
            "WARNING:matplotlib.image:Clipping input data to the valid range for imshow with RGB data ([0..1] for floats or [0..255] for integers).\n",
            "WARNING:matplotlib.image:Clipping input data to the valid range for imshow with RGB data ([0..1] for floats or [0..255] for integers).\n",
            "WARNING:matplotlib.image:Clipping input data to the valid range for imshow with RGB data ([0..1] for floats or [0..255] for integers).\n",
            "WARNING:matplotlib.image:Clipping input data to the valid range for imshow with RGB data ([0..1] for floats or [0..255] for integers).\n",
            "WARNING:matplotlib.image:Clipping input data to the valid range for imshow with RGB data ([0..1] for floats or [0..255] for integers).\n",
            "WARNING:matplotlib.image:Clipping input data to the valid range for imshow with RGB data ([0..1] for floats or [0..255] for integers).\n",
            "WARNING:matplotlib.image:Clipping input data to the valid range for imshow with RGB data ([0..1] for floats or [0..255] for integers).\n"
          ]
        },
        {
          "data": {
            "image/png": "[encoded data removed]",
            "text/plain": [
              "<Figure size 640x480 with 10 Axes>"
            ]
          },
          "metadata": {},
          "output_type": "display_data"
        }
      ],
      "source": [
        "for i in range(10):\n",
        "  plt.subplot(5,2,i+1)\n",
        "  plt.tight_layout()\n",
        "  plt.imshow(img_lst[i])\n",
        "  plt.title(cat_lst[i])\n",
        "  plt.xticks([])\n",
        "  plt.yticks([])"
      ]
    },
    {
      "cell_type": "code",
      "execution_count": null,
      "metadata": {
        "colab": {
          "background_save": true
        },
        "id": "ItDFyJR_z68J"
      },
      "outputs": [],
      "source": []
    }
  ],
  "metadata": {
    "accelerator": "GPU",
    "colab": {
      "provenance": []
    },
    "kernelspec": {
      "display_name": "Python 3",
      "name": "python3"
    }
  },
  "nbformat": 4,
  "nbformat_minor": 0
}